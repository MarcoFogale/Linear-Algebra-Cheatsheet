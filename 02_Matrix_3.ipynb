{
 "cells": [
  {
   "cell_type": "markdown",
   "metadata": {},
   "source": [
    "## Inverse Matrix\n",
    "\n",
    "The inverse of a matrix A is another matrix A<sup>-1</sup> (pronounced \"A inverse\") that multiplies A to produce the identity matrix. In other words, A<sup>-1</sup>A = I\n",
    "\n",
    "This is how one can \"cancel\" a matrix\n",
    "\n",
    "We need to \"cancel\" a matrix in order to solve problems that can be expressed in the form Ax=b, where A and b are known quantities and we want to solve for x \\\n",
    "To solve these expressions: x = A<sup>-1</sup>b\n",
    "\n",
    "The inverse of a matrix is always unique"
   ]
  },
  {
   "cell_type": "code",
   "execution_count": 2,
   "metadata": {},
   "outputs": [],
   "source": [
    "import numpy as np\n",
    "from matplotlib import pyplot as plt"
   ]
  },
  {
   "cell_type": "markdown",
   "metadata": {},
   "source": [
    "There are three different kind of inverses that have different conditions for invertibility:\n",
    "- full inverse: to have a full-inverse, a matrix must be <i>squared</i> and <i>full-rank</i>\n",
    "- one-sided: can transform a rectangular matrix into an identity matrix, but it works only for one multiplication order. A tall matrix T can have a left-inverse (LT = I, but TL != I). Likewise, a short and wide matrix has a right-inverse.\n",
    "- pseudoinverse: every matrix has a pseudoinverse, regardless of its shape and rank. Matrices that do not have a full or a one-side inverse are \"singular\" or \"non-invertible\". A reduced-rank matrix is always singular"
   ]
  },
  {
   "cell_type": "code",
   "execution_count": 3,
   "metadata": {},
   "outputs": [
    {
     "name": "stdout",
     "output_type": "stream",
     "text": [
      "0.0\n",
      "-5.999999999999997\n",
      "[[-0.5        -0.5         0.5       ]\n",
      " [-1.          2.         -1.        ]\n",
      " [ 1.16666667 -1.16666667  0.5       ]]\n",
      "[[1. 0. 0.]\n",
      " [0. 1. 0.]\n",
      " [0. 0. 1.]]\n"
     ]
    }
   ],
   "source": [
    "A = np.array([[1,2,3],[4,5,6], [7,7,7]])\n",
    "\n",
    "# check if A is singular\n",
    "# in this case trying to calculate the inverse matrix will raise a \"singular matrix\" error, because the matrix has 0 determinant\n",
    "print(np.linalg.det(A))\n",
    "\n",
    "# let's take now a squared full rank matrix (which is not singular):\n",
    "A = np.array([[1,2,3],[4,5,6], [7,7,9]])\n",
    "print(np.linalg.det(A))\n",
    "\n",
    "Ainv = np.linalg.inv(A)\n",
    "print(Ainv)\n",
    "print(np.abs(np.rint(Ainv@A)))"
   ]
  },
  {
   "cell_type": "markdown",
   "metadata": {},
   "source": [
    "### One-Sided Inverse\n",
    "\n",
    "For a matrix T of side M>N (a \"tall\" matrix) there is no tall matrix T<sup>-1</sup> such as T<sup>-1</sup>T=I\n",
    "\n",
    "But there is a \"large\" matrix L such as LT=I. Here is how to find it:\n",
    "\n",
    "T = tall matrix\n",
    "Tt = T transposed\n",
    "\n",
    "TtT = T transposed multiply T \\\n",
    "(TtT)<sup>-1</sup> = TtT inverse\n",
    "\n",
    "(TtT)<sup>-1</sup> multiply TtT is equal to I \\\n",
    "so (TtT)<sup>-1</sup>(TtT)=I\n",
    "\n",
    "We than understand that:\n",
    "L = (TtT)<sup>-1</sup>T<sup>T</sup>\n",
    "\n",
    "so that LT = I\n",
    "\n",
    "L is called left-inverse of matrix T\n",
    "\n",
    "Left-inverse is an important concept in machine learning when it comes to fitting statistical models to data\n",
    "\n",
    "Left-inverse is defined only for tall matrices that have full column rank"
   ]
  },
  {
   "cell_type": "code",
   "execution_count": 4,
   "metadata": {},
   "outputs": [
    {
     "name": "stdout",
     "output_type": "stream",
     "text": [
      "[[1. 0. 0. 0.]\n",
      " [0. 1. 0. 0.]\n",
      " [0. 0. 1. 0.]\n",
      " [0. 0. 0. 1.]]\n",
      "[[1. 0. 0. 0.]\n",
      " [0. 1. 0. 0.]\n",
      " [0. 0. 1. 0.]\n",
      " [0. 0. 0. 1.]]\n"
     ]
    }
   ],
   "source": [
    "# Let's demonstrate that a tall matrix times its transpose has a full inverse:\n",
    "T = np.random.randint(-10,11,size=(40,4))\n",
    "TtT = T.T@T\n",
    "TtT_inv = np.linalg.inv(TtT)\n",
    "print(np.abs(np.rint(TtT_inv@TtT)))\n",
    "\n",
    "# now let's calculate L (left-inverse) matrix\n",
    "L = TtT_inv @ T.T \n",
    "print(np.abs(np.rint(L@T)))"
   ]
  },
  {
   "cell_type": "markdown",
   "metadata": {},
   "source": [
    "## Moore-Penrose Pseudoinverse\n",
    "\n",
    "A reduced-rank matrix has no inverse. But it is possible to calculate a pseudo-inverse (called Moore-Penrose pseudoinverse). \\\n",
    "Pseudoinverse are tranformation that bring matrices close to the identity matrix. \\\n",
    "\n",
    "The algorithm behind pseudo-inversion is related to SVD and will be studied later"
   ]
  },
  {
   "cell_type": "code",
   "execution_count": 9,
   "metadata": {},
   "outputs": [
    {
     "name": "stdout",
     "output_type": "stream",
     "text": [
      "trying to calculate inverse:\n",
      "Error: Singular matrix\n",
      "calculate pseudo-inverse instead: \n",
      "[[0.01176471 0.02352941]\n",
      " [0.04705882 0.09411765]]\n"
     ]
    }
   ],
   "source": [
    "M = np.array([[1,4],[2,8]])\n",
    "\n",
    "print('trying to calculate inverse:')\n",
    "try:\n",
    "    np.linalg.inv(M)\n",
    "except Exception as e:\n",
    "    print('Error: ' + str(e))\n",
    "\n",
    "print('calculate pseudo-inverse instead: ')\n",
    "print(np.linalg.pinv(M))\n"
   ]
  },
  {
   "cell_type": "markdown",
   "metadata": {},
   "source": [
    "### Other notes on matrices\n",
    "\n",
    "The determinant of a matrix can be numerically unstable, and therefore computing many determinants on large matrices can lead to numerical inaccurancies. \\\n",
    "As inverting a matrix involves determinant calculation, many libraries strive to avoid explicitly inverting matrices. \\\n",
    "Matrices that have numerical values in roughly the same range (the condition number, difference between highest and lower value of a matrix), tend to be more stable (but this is not guaranteed) \n",
    "\n",
    "The geometric interpretation of matrix inverse is \"undoing\" the matrix transformation. This is why it is not possible to calculate the inverse of a reduced-rank matrix: one it goes \"flat\" (0 determinant), it is not possible to \"rebuild\" the original matrix\n"
   ]
  }
 ],
 "metadata": {
  "kernelspec": {
   "display_name": "Python 3",
   "language": "python",
   "name": "python3"
  },
  "language_info": {
   "codemirror_mode": {
    "name": "ipython",
    "version": 3
   },
   "file_extension": ".py",
   "mimetype": "text/x-python",
   "name": "python",
   "nbconvert_exporter": "python",
   "pygments_lexer": "ipython3",
   "version": "3.11.4"
  }
 },
 "nbformat": 4,
 "nbformat_minor": 2
}
