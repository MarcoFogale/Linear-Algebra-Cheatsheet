{
 "cells": [
  {
   "cell_type": "markdown",
   "metadata": {},
   "source": [
    "# VECTORS\n",
    "\n",
    "A vector is an oriented list of numbers\n",
    "\n",
    "\n",
    "<div>\n",
    "<img src=\"images/01_Vectors/1_vector.jpg\" width=\"200\"/>\n",
    "</div>"
   ]
  },
  {
   "cell_type": "code",
   "execution_count": 20,
   "metadata": {},
   "outputs": [],
   "source": [
    "import numpy as np\n",
    "from matplotlib import pyplot as plt"
   ]
  },
  {
   "cell_type": "markdown",
   "metadata": {},
   "source": [
    "## Adding two vectors"
   ]
  },
  {
   "cell_type": "code",
   "execution_count": 31,
   "metadata": {},
   "outputs": [
    {
     "name": "stdout",
     "output_type": "stream",
     "text": [
      "Adding two vectors: \n",
      "[[ 4]\n",
      " [ 9]\n",
      " [12]]\n",
      "adding two row vectors:\n",
      "[ 8 11]\n"
     ]
    },
    {
     "data": {
      "text/plain": [
       "[<matplotlib.lines.Line2D at 0x1dc03c84390>]"
      ]
     },
     "execution_count": 31,
     "metadata": {},
     "output_type": "execute_result"
    },
    {
     "data": {
      "image/png": "[encoded data removed]",
      "text/plain": [
       "<Figure size 700x700 with 1 Axes>"
      ]
     },
     "metadata": {},
     "output_type": "display_data"
    }
   ],
   "source": [
    "## adding two column vectors\n",
    "V1 = np.array([[3],[4],[5]])\n",
    "V2 = np.array([[1],[5],[7]])\n",
    "\n",
    "print('Adding two vectors: ')\n",
    "print(V1 + V2)\n",
    "\n",
    "## adding two row vectors\n",
    "V1 = np.array([5,5])\n",
    "V2 = np.array([3,6])\n",
    "\n",
    "sum = V1 + V2\n",
    "\n",
    "print('adding two row vectors:')\n",
    "print(sum)\n",
    "\n",
    "fig, ax = plt.subplots(figsize=(7,7))\n",
    "plt.xlim(-2,12)\n",
    "plt.ylim(-2,12)\n",
    "ax = plt.gca()\n",
    "ax.set_aspect('equal', adjustable='box')\n",
    "plt.grid()\n",
    "\n",
    "plt.plot([0,V1[0]],[0, V1[1]],color='black')\n",
    "plt.plot([V1[0],V1[0]+V2[0]],[V1[1], V1[1]+V2[1]],color='grey')\n",
    "plt.plot([0,sum[0]],[0, sum[1]],color='red')"
   ]
  },
  {
   "cell_type": "markdown",
   "metadata": {},
   "source": [
    "## Scalar multiplication\n",
    "\n",
    "<div>\n",
    "<img src=\"images/01_Vectors/scalar_mult.jpg\" width=\"300\"/>\n",
    "</div>"
   ]
  },
  {
   "cell_type": "code",
   "execution_count": 24,
   "metadata": {},
   "outputs": [
    {
     "name": "stdout",
     "output_type": "stream",
     "text": [
      "scalar multiplication:\n",
      "[[36]\n",
      " [16]\n",
      " [ 4]]\n",
      "average:\n",
      "[3.5 4.5]\n"
     ]
    }
   ],
   "source": [
    "w = np.array([[9],[4],[1]])\n",
    "ʎ = 4\n",
    "\n",
    "print('scalar multiplication:')\n",
    "print(ʎ * w)\n",
    "\n",
    "## average of vectors\n",
    "V1 = np.array([2,3])\n",
    "V2 = np.array([5,6])\n",
    "\n",
    "average = (V1+V2) / 2\n",
    "print('average:')\n",
    "print(average)\n",
    "\n",
    "\n",
    "fig, ax = plt.subplots(figsize=(7,7))\n",
    "plt.xlim(-2,12)\n",
    "plt.ylim(-2,12)\n",
    "ax = plt.gca()\n",
    "ax.set_aspect('equal', adjustable='box')\n",
    "plt.grid()\n",
    "\n",
    "plt.plot([0,V1[0]],[0, V1[1]],color='black')\n",
    "plt.plot([V1[0],V1[0]+V2[0]],[V1[1], V1[1]+V2[1]],color='grey')\n",
    "plt.plot([0,sum[0]],[0, sum[1]],color='red')\n"
   ]
  }
 ],
 "metadata": {
  "kernelspec": {
   "display_name": "Python 3",
   "language": "python",
   "name": "python3"
  },
  "language_info": {
   "codemirror_mode": {
    "name": "ipython",
    "version": 3
   },
   "file_extension": ".py",
   "mimetype": "text/x-python",
   "name": "python",
   "nbconvert_exporter": "python",
   "pygments_lexer": "ipython3",
   "version": "3.11.4"
  }
 },
 "nbformat": 4,
 "nbformat_minor": 2
}
