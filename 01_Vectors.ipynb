{
 "cells": [
  {
   "cell_type": "markdown",
   "metadata": {},
   "source": [
    "# VECTORS\n",
    "\n",
    "A vector is an oriented list of numbers\n",
    "\n",
    "\n",
    "<div>\n",
    "<img src=\"images/01_Vectors/1_vector.jpg\" width=\"200\"/>\n",
    "</div>"
   ]
  },
  {
   "cell_type": "code",
   "execution_count": 2,
   "metadata": {},
   "outputs": [],
   "source": [
    "import numpy as np\n",
    "from matplotlib import pyplot as plt"
   ]
  },
  {
   "cell_type": "markdown",
   "metadata": {},
   "source": [
    "## Adding two vectors"
   ]
  },
  {
   "cell_type": "code",
   "execution_count": 3,
   "metadata": {},
   "outputs": [
    {
     "name": "stdout",
     "output_type": "stream",
     "text": [
      "Adding two vectors: \n",
      "[[ 4]\n",
      " [ 9]\n",
      " [12]]\n",
      "adding two row vectors:\n",
      "[ 8 11]\n"
     ]
    },
    {
     "data": {
      "text/plain": [
       "[<matplotlib.lines.Line2D at 0x14df9de2e90>]"
      ]
     },
     "execution_count": 3,
     "metadata": {},
     "output_type": "execute_result"
    },
    {
     "data": {
      "image/png": "[encoded data removed]",
      "text/plain": [
       "<Figure size 400x400 with 1 Axes>"
      ]
     },
     "metadata": {},
     "output_type": "display_data"
    }
   ],
   "source": [
    "## adding two column vectors\n",
    "V1 = np.array([[3],[4],[5]])\n",
    "V2 = np.array([[1],[5],[7]])\n",
    "\n",
    "print('Adding two vectors: ')\n",
    "print(V1 + V2)\n",
    "\n",
    "## adding two row vectors\n",
    "V1 = np.array([5,5])\n",
    "V2 = np.array([3,6])\n",
    "\n",
    "v_added = V1 + V2\n",
    "\n",
    "print('adding two row vectors:')\n",
    "print(v_added)\n",
    "\n",
    "fig, ax = plt.subplots(figsize=(4,4))\n",
    "plt.xlim(-2,12)\n",
    "plt.ylim(-2,12)\n",
    "ax = plt.gca()\n",
    "ax.set_aspect('equal', adjustable='box')\n",
    "plt.grid()\n",
    "\n",
    "plt.plot([0,V1[0]],[0, V1[1]],color='black')\n",
    "plt.plot([V1[0],V1[0]+V2[0]],[V1[1], V1[1]+V2[1]],color='grey')\n",
    "plt.plot([0,v_added[0]],[0, v_added[1]],color='red')"
   ]
  },
  {
   "cell_type": "markdown",
   "metadata": {},
   "source": [
    "## Scalar multiplication and vector average\n",
    "\n",
    "<div>\n",
    "<img src=\"images/01_Vectors/scalar_mult.jpg\" width=\"300\"/>\n",
    "</div>"
   ]
  },
  {
   "cell_type": "code",
   "execution_count": 4,
   "metadata": {},
   "outputs": [
    {
     "name": "stdout",
     "output_type": "stream",
     "text": [
      "scalar multiplication:\n",
      "[[36]\n",
      " [16]\n",
      " [ 4]]\n",
      "average:\n",
      "[3.5 4.5]\n"
     ]
    },
    {
     "data": {
      "image/png": "[encoded data removed]",
      "text/plain": [
       "<Figure size 400x400 with 1 Axes>"
      ]
     },
     "metadata": {},
     "output_type": "display_data"
    }
   ],
   "source": [
    "w = np.array([[9],[4],[1]])\n",
    "ʎ = 4\n",
    "\n",
    "multiplication = ʎ * w\n",
    "\n",
    "print('scalar multiplication:')\n",
    "print(multiplication)\n",
    "\n",
    "## average of vectors\n",
    "V1 = np.array([2,3])\n",
    "V2 = np.array([5,6])\n",
    "\n",
    "average = (V1+V2) / 2\n",
    "print('average:')\n",
    "print(average)\n",
    "\n",
    "## multiply a row vector\n",
    "w = np.array([4,5])\n",
    "ʎ = 4\n",
    "\n",
    "mult = ʎ * w\n",
    "\n",
    "fig, ax = plt.subplots(figsize=(4,4))\n",
    "plt.plot([0, mult[0]],[0, mult[1]],color='green')\n",
    "plt.plot([0,w[0]],[0, w[1]],color='black')\n",
    "\n",
    "plt.xlim(-2,22)\n",
    "plt.ylim(-2,22)\n",
    "ax = plt.gca()\n",
    "ax.set_aspect('equal', adjustable='box')\n",
    "plt.grid()\n",
    "plt.show()\n"
   ]
  },
  {
   "cell_type": "markdown",
   "metadata": {},
   "source": [
    "## Magnitude (geometric length) and unit vector\n",
    "\n",
    "<div>\n",
    "<img src=\"images/01_Vectors/magnitude.jpg\" width=\"300\"/>\n",
    "</div>"
   ]
  },
  {
   "cell_type": "code",
   "execution_count": 5,
   "metadata": {},
   "outputs": [
    {
     "name": "stdout",
     "output_type": "stream",
     "text": [
      "the geometric length of a vector is the square root of the sum of squared vector elements, or Euclidean distance: \n",
      "5.385164807134504\n",
      "5.385164807134504\n",
      "unit vector:\n",
      "[0.37139068 0.55708601 0.74278135]\n",
      "the unit vector has a length of 1:\n",
      "1.0\n"
     ]
    }
   ],
   "source": [
    "W = np.array([2,3,4])\n",
    "\n",
    "magn = np.sqrt(np.sum(W**2))\n",
    "\n",
    "## squared root of 29 = 5.385164\n",
    "print('the geometric length of a vector is the square root of the sum of squared vector elements, or Euclidean distance: ')\n",
    "print(magn)\n",
    "\n",
    "magn_numpy = np.linalg.norm(W)\n",
    "print(magn_numpy)\n",
    "\n",
    "\n",
    "Ŵ = W * (1 / np.linalg.norm(W))\n",
    "print('unit vector:')\n",
    "print(Ŵ)\n",
    "print('the unit vector has a length of 1:')\n",
    "print(np.linalg.norm(Ŵ))"
   ]
  },
  {
   "cell_type": "markdown",
   "metadata": {},
   "source": [
    "## Dot product\n",
    "\n",
    "<div>\n",
    "<img src=\"images/01_Vectors/dot_prod.jpg\" width=\"300\"/>\n",
    "</div>"
   ]
  },
  {
   "cell_type": "code",
   "execution_count": 6,
   "metadata": {},
   "outputs": [
    {
     "name": "stdout",
     "output_type": "stream",
     "text": [
      "manually calculating dot product:\n",
      "320\n",
      "numpy dot product:\n",
      "320\n",
      "Is dot product distributive?\n",
      "True\n",
      "Is dot product associative?\n",
      "True\n",
      "Is dot product commutative?\n",
      "True\n"
     ]
    },
    {
     "data": {
      "image/png": "[encoded data removed]",
      "text/plain": [
       "<Figure size 400x400 with 1 Axes>"
      ]
     },
     "metadata": {},
     "output_type": "display_data"
    }
   ],
   "source": [
    "V1 = np.array([4,5,6])\n",
    "V2 = np.array([10,20,30])\n",
    "\n",
    "print('manually calculating dot product:')\n",
    "mult = []\n",
    "for i in range(len(V1)):\n",
    "    mult.append(V1[i]*V2[i])\n",
    "manual_dot = sum(mult)\n",
    "print(manual_dot)\n",
    "\n",
    "print('numpy dot product:')\n",
    "numpy_dot = V1.dot(V2)\n",
    "print(numpy_dot)\n",
    "\n",
    "## checking properties of dot product\n",
    "### distibutive\n",
    "V3 = np.array([2,3,4])\n",
    "print('Is dot product distributive?')\n",
    "test_distributive = V3.dot(V1 + V2) == V3.dot(V1) + V3.dot(V2)\n",
    "print(test_distributive)\n",
    "\n",
    "### associative\n",
    "print('Is dot product associative?')\n",
    "ʎ = 4\n",
    "test_associative = ʎ*V1.dot(V2) == ʎ*(V1.dot(V2))\n",
    "print(test_associative)\n",
    "\n",
    "\n",
    "### commutative\n",
    "print('Is dot product commutative?')\n",
    "test_commutative = V1.dot(V2) == V2.dot(V1)\n",
    "print(test_commutative)\n",
    "\n",
    "\n",
    "### test that the dot product of two orthogonal vectors is = 0\n",
    "V1 = np.array([1,2])\n",
    "V2 = np.array([2,-1])\n",
    "\n",
    "fig, ax = plt.subplots(figsize=(4,4))\n",
    "plt.plot([0,V1[0]],[0,V1[1]], color='black')\n",
    "plt.plot([0,V2[0]],[0,V2[1]], color='grey')\n",
    "\n",
    "plt.title('Dot product of two orthogonal vectors: ' + str(V1.dot(V2)))\n",
    "plt.grid()\n",
    "plt.xlim(-2,3)\n",
    "plt.ylim(-2,3)\n",
    "ax = plt.gca()\n",
    "ax.set_aspect('equal', adjustable='box')\n",
    "plt.show()"
   ]
  },
  {
   "cell_type": "markdown",
   "metadata": {},
   "source": [
    "## Element-vise product\n",
    "\n",
    "<div>\n",
    "<img src=\"images/01_Vectors/element_prod.jpg\" width=\"300\"/>\n",
    "</div>"
   ]
  },
  {
   "cell_type": "code",
   "execution_count": 7,
   "metadata": {},
   "outputs": [
    {
     "name": "stdout",
     "output_type": "stream",
     "text": [
      "[ 40 100 180]\n",
      "[[ 8 12]\n",
      " [10 15]\n",
      " [12 18]]\n"
     ]
    }
   ],
   "source": [
    "V1 = np.array([4,5,6])\n",
    "V2 = np.array([10,20,30])\n",
    "\n",
    "hadamard = V1*V2\n",
    "print(hadamard)\n",
    "\n",
    "V1 = np.array([[4],[5],[6]])\n",
    "V2 = np.array([2,3])\n",
    "\n",
    "outer = V1*V2\n",
    "print(outer)"
   ]
  },
  {
   "cell_type": "markdown",
   "metadata": {},
   "source": [
    "## Orthogonal vector decomposition \n",
    "\n",
    "<div>\n",
    "<img src=\"images/01_Vectors/orth_decomp.jpg\" width=\"500\"/>\n",
    "</div>"
   ]
  },
  {
   "cell_type": "code",
   "execution_count": 8,
   "metadata": {},
   "outputs": [
    {
     "name": "stdout",
     "output_type": "stream",
     "text": [
      "0.6206896551724138\n",
      "[3.10344828 1.24137931]\n",
      "[-1.10344828  2.75862069]\n"
     ]
    },
    {
     "data": {
      "image/png": "[encoded data removed]",
      "text/plain": [
       "<Figure size 400x400 with 1 Axes>"
      ]
     },
     "metadata": {},
     "output_type": "display_data"
    }
   ],
   "source": [
    "R = np.array([5,2])\n",
    "T = np.array([2,4])\n",
    "\n",
    "## find the vertical projection β of T on R\n",
    "β = T.dot(R) / R.dot(R)\n",
    "print(β)\n",
    "\n",
    "## find the parallel component of the target vector T with reference on R\n",
    "parallel = β * R\n",
    "print(parallel)\n",
    "\n",
    "## find perpendicular component\n",
    "perpendicular = T-parallel\n",
    "print(perpendicular)\n",
    "\n",
    "fig, ax = plt.subplots(figsize=(4,4))\n",
    "plt.plot([0,R[0]], [0,R[1]],color= 'green')\n",
    "plt.plot([0,T[0]], [0,T[1]],color= 'grey')\n",
    "plt.plot([0, parallel[0]], [0, parallel[1]], color= 'black')\n",
    "plt.plot([0, perpendicular[0]], [0, perpendicular[1]], color= 'black')\n",
    "\n",
    "plt.title('vertical projection: ')\n",
    "plt.grid()\n",
    "plt.xlim(-2,6)\n",
    "plt.ylim(-2,6)\n",
    "ax = plt.gca()\n",
    "ax.set_aspect('equal', adjustable='box')\n",
    "plt.show()"
   ]
  },
  {
   "cell_type": "markdown",
   "metadata": {},
   "source": [
    "## Projecting a vector onto another vector\n",
    "\n",
    "<div>\n",
    "<img src=\"images/01_Vectors/projection.jpg\" width=\"800\"/>\n",
    "</div>\n"
   ]
  },
  {
   "cell_type": "code",
   "execution_count": 9,
   "metadata": {},
   "outputs": [
    {
     "name": "stdout",
     "output_type": "stream",
     "text": [
      "5.656854249492381\n",
      "6.0\n",
      "0.9999999999999999\n",
      "1.0\n"
     ]
    },
    {
     "data": {
      "image/png": "[encoded data removed]",
      "text/plain": [
       "<Figure size 700x700 with 1 Axes>"
      ]
     },
     "metadata": {},
     "output_type": "display_data"
    }
   ],
   "source": [
    "V1 = np.array([4,4])\n",
    "V2 = np.array([6,0])\n",
    "\n",
    "# unit vectors\n",
    "V1_norm = V1 * (1/ np.linalg.norm(V1))\n",
    "V2_norm = V2 * (1/ np.linalg.norm(V2))\n",
    "\n",
    "# dot product\n",
    "dot = V1.dot(V2)\n",
    "\n",
    "# magnitudes\n",
    "length_V1 = np.linalg.norm(V1)\n",
    "length_V2 = np.linalg.norm(V2)\n",
    "print(length_V1)\n",
    "print(length_V2)\n",
    "\n",
    "# unit vectors magnitudes\n",
    "length_V1_norm = np.linalg.norm(V1_norm)\n",
    "length_V2_norm = np.linalg.norm(V2_norm)\n",
    "print(length_V1_norm)\n",
    "print(length_V2_norm)\n",
    "\n",
    "# projections\n",
    "proj_V1_onto_V2 = V2_norm * (dot / length_V2)\n",
    "proj_V2_onto_V1 = V1_norm * (dot / length_V1)\n",
    "\n",
    "\n",
    "# visualize the vectors and projections\n",
    "fig, ax = plt.subplots(figsize=(7,7))\n",
    "plt.xlim(-2,11)\n",
    "plt.ylim(-2,11)\n",
    "ax = plt.gca()\n",
    "ax.set_aspect('equal', adjustable='box')\n",
    "plt.grid()\n",
    "\n",
    "plt.plot([0,V1[0]],[0, V1[1]],color='rosybrown', label='V1')\n",
    "plt.plot([0,V2[0]],[0, V2[1]],color='lime',label='V2')\n",
    "plt.plot([0,proj_V1_onto_V2[0]],[0, proj_V1_onto_V2[1]],color='red', label='V1 onto V2')\n",
    "plt.plot([0,proj_V2_onto_V1[0]],[0, proj_V2_onto_V1[1]],color='green', label='V2 onto V1')\n",
    "\n",
    "plt.plot([0,V1_norm[0]],[0, V1_norm[1]],color='maroon', label='V1 unit vector')\n",
    "plt.plot([0,V2_norm[0]],[0, V2_norm[1]],color='darkgreen', label='V2 unit vector')\n",
    "\n",
    "plt.legend()\n",
    "plt.show()"
   ]
  },
  {
   "cell_type": "markdown",
   "metadata": {},
   "source": [
    "## Orthogonal vector decomposition \n",
    "\n",
    "<div>\n",
    "<img src=\"images/01_Vectors/linear_dependent.jpg\" width=\"500\"/>\n",
    "</div>"
   ]
  },
  {
   "cell_type": "code",
   "execution_count": 10,
   "metadata": {},
   "outputs": [
    {
     "name": "stdout",
     "output_type": "stream",
     "text": [
      "manually calculating weighted linear combination: \n",
      "[36 42 48]\n",
      "calculating the weighted linear combination using vector-matrix multiplication: \n",
      "[36 42 48]\n"
     ]
    }
   ],
   "source": [
    "ʎ_1 = 1\n",
    "ʎ_2 = 2\n",
    "ʎ_3 = 3\n",
    "\n",
    "V1 = np.array([2,3,4])\n",
    "V2 = np.array([5,6,7])\n",
    "V3 = np.array([8,9,10])\n",
    "\n",
    "print('manually calculating weighted linear combination: ')\n",
    "linear_w = (ʎ_1*V1) + (ʎ_2*V2) + (ʎ_3*V3)\n",
    "print(linear_w)\n",
    "\n",
    "print('calculating the weighted linear combination using vector-matrix multiplication: ')\n",
    "ʎ = np.array([1,2,3])\n",
    "M = np.array([[2,3,4],[5,6,7],[8,9,10]])\n",
    "\n",
    "linear_w_matrix = ʎ.dot(M)\n",
    "print(linear_w_matrix)\n",
    "\n",
    "## checking for linear dependency is done using matrix rank, so it will be covered later...\n",
    "\n"
   ]
  }
 ],
 "metadata": {
  "kernelspec": {
   "display_name": "Python 3",
   "language": "python",
   "name": "python3"
  },
  "language_info": {
   "codemirror_mode": {
    "name": "ipython",
    "version": 3
   },
   "file_extension": ".py",
   "mimetype": "text/x-python",
   "name": "python",
   "nbconvert_exporter": "python",
   "pygments_lexer": "ipython3",
   "version": "3.11.4"
  }
 },
 "nbformat": 4,
 "nbformat_minor": 2
}
