{
 "cells": [
  {
   "cell_type": "markdown",
   "metadata": {},
   "source": [
    "## Row reduction and LU Decomposition"
   ]
  },
  {
   "cell_type": "code",
   "execution_count": 37,
   "metadata": {},
   "outputs": [],
   "source": [
    "import numpy as np\n",
    "import sympy as sym\n",
    "import scipy.linalg as sc"
   ]
  },
  {
   "cell_type": "markdown",
   "metadata": {},
   "source": [
    "Solve a system of equations with a matrix system with Python.\n",
    "\n",
    "The order is important, because in matrix multiplication, order matters.\n",
    "\n",
    "\n",
    "$$A=\\begin{vmatrix}1 & 1\\\\\n",
    "2 & 4\n",
    "\\end{vmatrix}$$\n",
    "\n",
    "\n",
    "$$X=\\begin{vmatrix}a\\\\b\n",
    "\\end{vmatrix}$$\n",
    "\n",
    "\n",
    "$$B=\\begin{vmatrix}35\\\\\n",
    "94\n",
    "\\end{vmatrix}$$\n",
    "\n",
    "AX = B \\\n",
    "A<sup>-1</sup>AX = A<sup>-1</sup>B \\\n",
    "X = A<sup>-1</sup>B\n",
    "\n",
    "to solve for x, pre-multiply the inverse of A by B"
   ]
  },
  {
   "cell_type": "code",
   "execution_count": 38,
   "metadata": {},
   "outputs": [
    {
     "name": "stdout",
     "output_type": "stream",
     "text": [
      "[[23.]\n",
      " [12.]]\n"
     ]
    }
   ],
   "source": [
    "A = np.array([[1,1],[2,4]])\n",
    "B = np.array([[35], [94]])\n",
    "\n",
    "# solve for x\n",
    "X = np.linalg.inv(A)@B\n",
    "print(X)"
   ]
  },
  {
   "cell_type": "markdown",
   "metadata": {},
   "source": [
    "### Row reduction\n",
    "\n",
    "Row reduction means iteratively apply two operations-scalar multiplication and addition, to rows of a matrix. Row reduction relies on the same principle as adding equations to other equations within a system.\n",
    "\n",
    "<i>The goal of row reduction is to transform a dense matrix into an upper-triangular matrix.</i> \\\n",
    "The upper-triangular matrix that results from row reduction is called the <i>echelon form</i> of the matrix\n",
    "\n",
    "As the matrix before and after the row reduction is linked by a linear transformation, it is possible to express row reduction with a matrix  \\\n",
    "As there are many (or infinite) row echelons form for the same matrix, two of them that are unique, reduced row echelon form and U are the most important ones.\n",
    "\n",
    "There is no direct function in Pyhon to calculate a row echelon form of a matrix"
   ]
  },
  {
   "cell_type": "markdown",
   "metadata": {},
   "source": [
    "### Gaussian elimination\n",
    "\n",
    "It is possible to solve a matrix system of equation for X without using inversion. This method is called Gaussian Elimination.\n",
    "\n",
    "Gaussian elimination consists in:\n",
    "- augment the matrix of coefficients by the vector of constants\n",
    "- row reduce to echelon form\n",
    "- use back substitution to solve for each variable in turn\n",
    "\n",
    "It exists also the Gaussian-Jordan elimination, which keep on reducing upward to eliminate all the elements above each pivot. In other words, it transform the row echelon matrix in a matrix that, apart from the last column, have only ones and zero on each echelon. This form is called <b>reduced row echelon form</b> and has been used for centuries to solve system of equations manually.\n",
    "\n",
    "The reduced row echelon form, or RREF, is unique for a matrix, The Sympy library of Python has a function to calculate RREF.\n"
   ]
  },
  {
   "cell_type": "code",
   "execution_count": 39,
   "metadata": {},
   "outputs": [
    {
     "name": "stdout",
     "output_type": "stream",
     "text": [
      "Matrix([[1.00000000000000, 1.00000000000000, 4.00000000000000], [-0.500000000000000, 1.00000000000000, 2.00000000000000]])\n",
      "reduced row echelon form:\n",
      "Matrix([[1, 0, 1.33333333333333], [0, 1, 2.66666666666667]])\n"
     ]
    }
   ],
   "source": [
    "# a numpy array converted in sympy\n",
    "M = np.array([[1,1,4],[-1/2,1,2]])\n",
    "SymMat = sym.Matrix(M)\n",
    "\n",
    "print(SymMat)\n",
    "print('reduced row echelon form:')\n",
    "print(SymMat.rref()[0])"
   ]
  },
  {
   "cell_type": "markdown",
   "metadata": {},
   "source": [
    "Consider this equation:\n",
    "\n",
    "$$\\begin{vmatrix}a & b\\\\\n",
    "c & d\n",
    "\\end{vmatrix} . \\begin{vmatrix}x\\\\\n",
    "y\n",
    "\\end{vmatrix} = \\begin{vmatrix}1\\\\\n",
    "0\n",
    "\\end{vmatrix}$$\n",
    "\n",
    "The constant vector is the first column of the 2x2 identity matrix. That means that applying RREF to a square full-rank matrix augmented by the first column of the identity matrix wll reveal the linear transformation that brings the matrix into the first column of the identity matrix. And that in turn, that the vector [x,y]<sup>T</sup> is the first column of the matrix inverse.\n",
    "\n",
    "If we repeat this operation having on the left the other  columns of the identity matrix, we find that infact, every time the [x,y] vector will be the transpose of the correspondant column of M inverse.\n",
    "\n",
    "And that means, it is possible to obtain the entire inverse matrix by augmenting the entire original matrix by the identity matrix and solve one single RREF.\n",
    "\n",
    "RREF([A | I]) = [I | A<sup>-1</sup>]\n",
    "\n",
    "This is interesting because it provides a mechanism for computing the matrix inverse without computing determinants. On the other hand, row reduction involves a lotof division, which increases the risk of numerical precision errors. The Gaussian-Jordan elimination provides a more numerically stable way to compute the matrix than the full original algorithm, but a matrix that is close to singular will be difficul to invert, regardless of the used algorithm..."
   ]
  },
  {
   "cell_type": "code",
   "execution_count": 40,
   "metadata": {},
   "outputs": [
    {
     "name": "stdout",
     "output_type": "stream",
     "text": [
      "[[-1.5   0.5 ]\n",
      " [ 1.25 -0.25]]\n",
      "[[1. 2. 1. 0.]\n",
      " [5. 6. 0. 1.]]\n",
      "Matrix([[1.00000000000000, 2.00000000000000, 1.00000000000000, 0], [5.00000000000000, 6.00000000000000, 0, 1.00000000000000]])\n",
      "Matrix([[1, 0, -1.50000000000000, 0.500000000000000], [0, 1, 1.25000000000000, -0.250000000000000]])\n",
      "[[-1.5   0.5 ]\n",
      " [ 1.25 -0.25]]\n"
     ]
    }
   ],
   "source": [
    "# given a squared full-rank matrix:\n",
    "M = np.array([[1,2],[5,6]])\n",
    "\n",
    "# this is the inverse calculated by numpy\n",
    "print(np.linalg.inv(M))\n",
    "\n",
    "# augment the original matrix by an identity matrix about the same shape and solve one RREF\n",
    "id = np.eye(M.shape[0])\n",
    "augM = np.hstack([M,id])\n",
    "print(augM)\n",
    "\n",
    "SymM = sym.Matrix(augM)\n",
    "print(SymM)\n",
    "\n",
    "RREF = SymM.rref()[0]\n",
    "print(RREF)\n",
    "\n",
    "# the last two columns are the inverse of the original matrix\n",
    "inv_by_RREF = np.array(RREF).astype(np.float64)[:,-2:]\n",
    "print(inv_by_RREF)"
   ]
  },
  {
   "cell_type": "markdown",
   "metadata": {},
   "source": [
    "### LU Decomposition\n",
    "\n",
    "LU means \"lower triangular\" and \"upper triangular\"\n",
    "The idea is to decompose a matrix into the product of two triangular matrices.\n",
    "\n",
    "A = LU\n",
    "\n",
    "Here is a numerical example:\n",
    "\n",
    "$$\\begin{vmatrix}2 & 2 & 4\\\\\n",
    "1 & 0 & 3 \\\\\n",
    "2 & 1 & 2\n",
    "\\end{vmatrix} = \\begin{vmatrix}1 & 0 & 0\\\\\n",
    "1/2 & 1 & 0 \\\\\n",
    "1 & 1 & 1\n",
    "\\end{vmatrix} . \\begin{vmatrix}2 & 2 & 4\\\\\n",
    "0 & -1 & 1 \\\\\n",
    "0 & 0 & -3\n",
    "\\end{vmatrix}$$\n",
    "\n",
    "These two matrices comes from the definition of row reduction:\n",
    "\n",
    "L<sup>-1</sup>A = U\n",
    "\n",
    "U = echelon form\n",
    "\n",
    "LU decoposition is not unique: there is an infinite number of lower- and upper-triangular matrices that could multiply to produce a matrix. However, adding the constraint of the diagonal of L = 1 ensures that the LU decomposition is unique for a full-rank squared matrix"
   ]
  },
  {
   "cell_type": "code",
   "execution_count": 43,
   "metadata": {},
   "outputs": [
    {
     "name": "stdout",
     "output_type": "stream",
     "text": [
      "L: \n",
      "[[1.  0.  0. ]\n",
      " [0.5 1.  0. ]\n",
      " [1.  1.  1. ]]\n",
      "U: \n",
      "[[ 2.  2.  4.]\n",
      " [ 0. -1.  1.]\n",
      " [ 0.  0. -3.]]\n"
     ]
    }
   ],
   "source": [
    "A = np.array([[2,2,4],[1,0,3],[2,1,2]])\n",
    "\n",
    "_,L,U = sc.lu(A)\n",
    "\n",
    "print('L: ')\n",
    "print(L)\n",
    "print('U: ')\n",
    "print(U)"
   ]
  },
  {
   "cell_type": "markdown",
   "metadata": {},
   "source": [
    "### Row swapping via Permutation Matrices\n",
    "\n",
    "Permutation matrices are often labeled with P. They are used to swap position of a row of a matrix to facilitate row reduction.\n",
    "\n",
    "The permutation matrices are orthogonal, means that P<sup>-1</sup>= P<sup>T</sup>\n",
    "The reason is that all elements in a permutation matrix are either 0 or 1, and because rows are swapped only once, each column has exactly one non zero element (permutation matrices leave the original values intact, so that means that they are all identity matrix with swapped rows)."
   ]
  },
  {
   "cell_type": "code",
   "execution_count": 45,
   "metadata": {},
   "outputs": [
    {
     "name": "stdout",
     "output_type": "stream",
     "text": [
      "M:\n",
      "[[3 2 1]\n",
      " [0 0 5]\n",
      " [0 7 2]]\n",
      "P:\n",
      "[[0 0 1]\n",
      " [1 0 0]\n",
      " [0 1 0]]\n",
      "row swapped M:\n",
      "[[0 7 2]\n",
      " [3 2 1]\n",
      " [0 0 5]]\n"
     ]
    }
   ],
   "source": [
    "M = np.array([[3,2,1],[0,0,5],[0,7,2]])\n",
    "\n",
    "P = np.array([[0,0,1],[1,0,0],[0,1,0]])\n",
    "\n",
    "Mp = P@M\n",
    "\n",
    "print('M:')\n",
    "print(M)\n",
    "print('P:')\n",
    "print(P)\n",
    "print('row swapped M:')\n",
    "print(Mp)"
   ]
  }
 ],
 "metadata": {
  "kernelspec": {
   "display_name": "Python 3",
   "language": "python",
   "name": "python3"
  },
  "language_info": {
   "codemirror_mode": {
    "name": "ipython",
    "version": 3
   },
   "file_extension": ".py",
   "mimetype": "text/x-python",
   "name": "python",
   "nbconvert_exporter": "python",
   "pygments_lexer": "ipython3",
   "version": "3.11.4"
  }
 },
 "nbformat": 4,
 "nbformat_minor": 2
}
