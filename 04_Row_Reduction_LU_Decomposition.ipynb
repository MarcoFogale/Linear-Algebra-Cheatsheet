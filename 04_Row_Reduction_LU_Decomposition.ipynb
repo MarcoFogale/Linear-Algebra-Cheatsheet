{
 "cells": [
  {
   "cell_type": "markdown",
   "metadata": {},
   "source": [
    "## Row reduction and Lu Decomposition"
   ]
  },
  {
   "cell_type": "code",
   "execution_count": 2,
   "metadata": {},
   "outputs": [],
   "source": [
    "import numpy as np"
   ]
  },
  {
   "cell_type": "markdown",
   "metadata": {},
   "source": [
    "Solve a system of equations with a matrix system with Python.\n",
    "\n",
    "The order is important, because in matrix multiplication, order matters.\n",
    "\n",
    "\n",
    "$$A=\\begin{vmatrix}1 & 1\\\\\n",
    "2 & 4\n",
    "\\end{vmatrix}$$\n",
    "\n",
    "\n",
    "$$X=\\begin{vmatrix}a\\\\b\n",
    "\\end{vmatrix}$$\n",
    "\n",
    "\n",
    "$$B=\\begin{vmatrix}35\\\\\n",
    "94\n",
    "\\end{vmatrix}$$\n",
    "\n",
    "AX = B \\\n",
    "A<sup>-1</sup>AX = A<sup>-1</sup>B \\\n",
    "X = A<sup>-1</sup>B\n",
    "\n",
    "to solve for x, pre-multiply the inverse of A by B"
   ]
  },
  {
   "cell_type": "code",
   "execution_count": 4,
   "metadata": {},
   "outputs": [
    {
     "name": "stdout",
     "output_type": "stream",
     "text": [
      "[[23.]\n",
      " [12.]]\n"
     ]
    }
   ],
   "source": [
    "A = np.array([[1,1],[2,4]])\n",
    "B = np.array([[35], [94]])\n",
    "\n",
    "# solve for x\n",
    "X = np.linalg.inv(A)@B\n",
    "print(X)"
   ]
  },
  {
   "cell_type": "markdown",
   "metadata": {},
   "source": [
    "### Row reduction\n",
    "\n",
    "Row reduction means iteratively apply two operations-scalar multiplication and addition, to rows of a matrix. Row reduction relies on the same principle as adding equations to other equations within a system.\n",
    "\n",
    "<i>The goal of row reduction is to transform a dense matrix into an upper-triangular matrix.</i> \\\n",
    "The upper-triangular matrix that results from row reduction is called the <i>echelon form</i> of the matrix\n",
    "\n",
    "As the matrix before and after the row reduction is linked by a linear transformation, it is possible to express row reduction with a matrix  \\\n",
    "As there are many (or infinite) row echelons form for the same matrix, two of them that are unique, reduced row echelon form and U are the most important ones.\n",
    "\n",
    "There is no direct function in Pyhon to calculate a row echelon form of a matrix"
   ]
  },
  {
   "cell_type": "markdown",
   "metadata": {},
   "source": [
    "### Gaussian elimination\n",
    "\n",
    "It is possible to solve a matrix system of equation for X without using iversion. This method is called Gaussian Elimination.\n",
    "\n",
    "Gaussian elimination consists in:\n",
    "- augment the matrix of coefficients by the vector of constants\n",
    "- row reduce to echelon form\n",
    "- use back substitution to solve for each variable in turn\n",
    "\n"
   ]
  }
 ],
 "metadata": {
  "kernelspec": {
   "display_name": "Python 3",
   "language": "python",
   "name": "python3"
  },
  "language_info": {
   "codemirror_mode": {
    "name": "ipython",
    "version": 3
   },
   "file_extension": ".py",
   "mimetype": "text/x-python",
   "name": "python",
   "nbconvert_exporter": "python",
   "pygments_lexer": "ipython3",
   "version": "3.11.4"
  }
 },
 "nbformat": 4,
 "nbformat_minor": 2
}
