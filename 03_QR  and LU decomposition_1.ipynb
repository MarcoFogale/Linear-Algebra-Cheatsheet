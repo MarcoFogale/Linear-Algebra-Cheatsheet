{
 "cells": [
  {
   "cell_type": "markdown",
   "metadata": {},
   "source": [
    "## QR and LU decomposition\n",
    "\n",
    "### Orthogonal matrices\n",
    "The letter Q is often used to indicate orthogonal matrices\\\n",
    "Orthogonal matrices have two properties:\n",
    "- orthogonal columns: all columns are pair-wise orthogonal\n",
    "- unit-norm columns: the norm (geometric length) of each column is exactly 1\n",
    "\n",
    "That means that the dot product of a column with itself is equal to 1, and the dot product of a column with another column is 0\n",
    "\n",
    "The matrix equation expressing the two key properties of an orthogonal matrix is simply marvelous:\n",
    "\n",
    "Q<sup>T</sup>Q = I\n",
    "\n",
    "This is a big deal, because a matrix that multiply another matrix giving as a result the identity matrix is the definition of inverse! That means that the inverse of an orthogonal matrix is its transpose.\n",
    "\n",
    "Examples of orthogonal matrices are: the identity matrix itself, the rotation matrix, permutation matrices, and a lot of others, as long as they have the two properties previously mentioned"
   ]
  },
  {
   "cell_type": "code",
   "execution_count": 23,
   "metadata": {},
   "outputs": [],
   "source": [
    "import numpy as np"
   ]
  },
  {
   "cell_type": "code",
   "execution_count": 24,
   "metadata": {},
   "outputs": [],
   "source": [
    "def roundAbs(matrix):\n",
    "    return np.abs(np.rint(matrix))"
   ]
  },
  {
   "cell_type": "code",
   "execution_count": 31,
   "metadata": {},
   "outputs": [
    {
     "name": "stdout",
     "output_type": "stream",
     "text": [
      "[[1 0]\n",
      " [0 1]]\n",
      "[[1 0]\n",
      " [0 1]]\n",
      "[[1 0]\n",
      " [0 1]]\n",
      "[[1 0 0 0]\n",
      " [0 1 0 0]\n",
      " [0 0 1 0]\n",
      " [0 0 0 1]]\n",
      "[[1 0 0 0]\n",
      " [0 1 0 0]\n",
      " [0 0 1 0]\n",
      " [0 0 0 1]]\n",
      "[[1. 0.]\n",
      " [0. 1.]]\n",
      "[[1. 0. 0.]\n",
      " [0. 1. 0.]\n",
      " [0. 0. 1.]]\n"
     ]
    }
   ],
   "source": [
    "rot_90 = np.array([[0,-1], [1,0]])\n",
    "rot_180 = np.array([[-1,0],[0,-1]])\n",
    "rot_270 = np.array([[0,1],[-1,0]])\n",
    "\n",
    "row_perm = np.array([[0,0,1,0],[0,1,0,0],[0,0,0,1],[1,0,0,0]])\n",
    "col_perm = np.array([[0,0,0,1],[0,1,0,0],[1,0,0,0],[0,0,1,0]])\n",
    "\n",
    "print(rot_90.T@rot_90)\n",
    "print(rot_180.T@rot_180)\n",
    "print(rot_270@rot_270.T)\n",
    "\n",
    "print(row_perm.T@row_perm)\n",
    "print(col_perm.T@col_perm)\n",
    "\n",
    "ʎ = 1 / np.sqrt(2)\n",
    "A = ʎ * np.array([[1,-1],[1,1]])\n",
    "print(roundAbs(A.T@A))\n",
    "\n",
    "ʎ = 1 / 3\n",
    "A = ʎ * np.array([[1,2,2],[2,1,-2],[-2,2,1]])\n",
    "print(roundAbs(A.T@A))\n",
    "\n",
    "\n",
    "\n",
    "\n",
    "\n",
    "\n"
   ]
  }
 ],
 "metadata": {
  "kernelspec": {
   "display_name": "Python 3",
   "language": "python",
   "name": "python3"
  },
  "language_info": {
   "codemirror_mode": {
    "name": "ipython",
    "version": 3
   },
   "file_extension": ".py",
   "mimetype": "text/x-python",
   "name": "python",
   "nbconvert_exporter": "python",
   "pygments_lexer": "ipython3",
   "version": "3.11.4"
  }
 },
 "nbformat": 4,
 "nbformat_minor": 2
}
