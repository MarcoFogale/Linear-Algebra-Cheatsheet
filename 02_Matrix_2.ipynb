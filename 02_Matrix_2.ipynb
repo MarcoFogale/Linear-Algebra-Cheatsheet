{
 "cells": [
  {
   "cell_type": "markdown",
   "metadata": {},
   "source": [
    "# Matrices part 2"
   ]
  },
  {
   "cell_type": "code",
   "execution_count": null,
   "metadata": {},
   "outputs": [],
   "source": [
    "import numpy as np\n",
    "from matplotlib import pyplot as plt\n",
    "import scipy as sp\n",
    "from sympy import *"
   ]
  },
  {
   "cell_type": "markdown",
   "metadata": {},
   "source": [
    "## Matrix Norm\n",
    "\n",
    "There are two families of matrix norm:\n",
    "- element-wise norm: reflect the magnitude of the elements in the matrix\n",
    "- induced: measure of how much a matrix transform (strech or shrinks) a vector\n",
    "\n",
    "Frobendius norm is an element-wise norm"
   ]
  },
  {
   "cell_type": "code",
   "execution_count": null,
   "metadata": {},
   "outputs": [],
   "source": [
    "\n",
    "M = np.array([[4,5,6], [0,1,4], [9,9,9]])\n",
    "M2 = np.array([[0,0,0],[0,8,0],[1,2,6]])\n",
    "\n",
    "# Frobenius norm of a matrix\n",
    "print(np.linalg.norm(M))\n",
    "print(np.linalg.norm(M, ord='fro'))\n",
    "\n",
    "# trace of a matrix (sum of diagonal elements)\n",
    "t = np.trace(M)\n",
    "t2 = np.trace(M2)\n",
    "print(t)\n",
    "print(t2)"
   ]
  },
  {
   "cell_type": "markdown",
   "metadata": {},
   "source": [
    "## Properties of diagonal matrices\n",
    "\n",
    "- premultiplying by a diagonal matrix scales the rows of the right matrix by the corresponding diagonal matrix\n",
    "- postmultiplying by a diagonal matrix scales the columns of the left matrix by the corresponding diagonal matrix"
   ]
  },
  {
   "cell_type": "code",
   "execution_count": null,
   "metadata": {},
   "outputs": [],
   "source": [
    "M = np.ones((4,4))\n",
    "M2 = np.array([[1,0,0,0],[0,4,0,0], [0,0,9,0], [0,0,0,16]])\n",
    "M3 = np.array([[1,0,0,0], [0,2,0,0], [0,0,3,0], [0,0,0,4]])\n",
    "M3 = np.sqrt(M2)\n",
    "\n",
    "print(M@M2)\n",
    "print(M2@M)\n",
    "print(M3@M@M3)"
   ]
  },
  {
   "cell_type": "markdown",
   "metadata": {},
   "source": [
    "## Column space, row space and null space of a matrix\n",
    "\n",
    "<b>Column space</b>: exactly like linear weighted combination of vectors involves scalar multiplying and summing a set of vectors, an infinite number of scalars (all the real numbers) gives an infinite number of way of multiplying a matrix (which can be seen as a set of column vectors). The column space can be succintly summarized as the equation: Ax = b\n",
    "\n",
    "<b>Row space</b>: it's like the column space but for rows. That means, that is egal to the column space of the transposed matrix. The row echelons form (not reduced) of a matrix is the set of linear independent vectors that form the basis of the row space\n",
    "\n",
    "<b>Null space</b>: The null space can be summarized by the equation Ay = 0, where y != 0 \n",
    "\n"
   ]
  },
  {
   "cell_type": "code",
   "execution_count": null,
   "metadata": {},
   "outputs": [],
   "source": [
    "# A has a null space\n",
    "A = np.array([[1,-1],[-2,2]])\n",
    "# B doesn't have a null space\n",
    "B = np.array([[1,-1],[-2,3]])\n",
    "\n",
    "## find the row space basis\n",
    "def rowSpaceBasis(a):\n",
    "    m = Matrix(a.tolist())\n",
    "    #use sympy to find row echelon form\n",
    "    M_rref = np.array(m.rref()[0].tolist())\n",
    "    #take away zeros row vectors\n",
    "    row_space_basis = M_rref[~np.all(M_rref == 0, axis=1)]\n",
    "    return row_space_basis\n",
    "\n",
    "\n",
    "##------------- plot row vectors and row space -----------------\n",
    "\n",
    "def plotRowSpace(m):\n",
    "    fig, ax = plt.subplots(figsize=(4,4))\n",
    "    limit = 5\n",
    "    plt.xlim(-limit,limit)\n",
    "    plt.ylim(-limit,limit)\n",
    "    ax = plt.gca()\n",
    "    ax.set_aspect('equal', adjustable='box')\n",
    "    plt.grid()\n",
    "\n",
    "    row_space_basis = rowSpaceBasis(m)\n",
    "\n",
    "    for v in row_space_basis:\n",
    "        plt.plot([0, limit*v[0]],[0,limit*v[1]],color='lightcoral')\n",
    "        plt.plot([0, -limit*v[0]],[0,-limit*v[1]],color='lightcoral')\n",
    "\n",
    "    for v in m:\n",
    "        plt.plot([0,v[0]],[0, v[1]],color='black')\n",
    "\n",
    "    \n",
    "    plt.legend(['row vectors', 'row space'], ['black', 'lightcoral'])\n",
    "    plt.show()\n",
    "\n",
    "\n",
    "print(rowSpaceBasis(A))\n",
    "plotRowSpace(A)\n",
    "\n",
    "\n",
    "print(rowSpaceBasis(B))\n",
    "plotRowSpace(B)\n",
    "\n",
    "##-------------------- plot column space -----------------\n",
    "print(rowSpaceBasis(A.T))\n",
    "plotRowSpace(A.T)\n",
    "\n",
    "print(rowSpaceBasis(B.T))\n",
    "plotRowSpace(B.T)\n",
    "\n",
    "\n",
    "## null space (scipy returns an unit vector, but all the scalared versions of this vector are the null space)\n",
    "print(sp.linalg.null_space(A))\n",
    "print(sp.linalg.null_space(B))\n",
    "\n"
   ]
  },
  {
   "cell_type": "markdown",
   "metadata": {},
   "source": [
    "## Rank\n",
    "\n",
    "Rank is a number associated with matrices and it is related to the dimensionalities of matrix subspaces, and has important implications for matrix operations, including inverting matrices and determining the number of solutions to a system of equations.\n",
    "\n",
    "Rank is non-negative\n",
    "Every matrix has only one, unique rank\n",
    "The maximum possible rank of a matrix is the smaller of its row or column count\n",
    "A matrix with its maximum possible rank is called full rank, otherwise it is called \"singular\" or \"reduced-rank\" or \"rank-deficient\"\n",
    "\n",
    "### Rank of Added, Multiplied and Shifted \n",
    "\n",
    "One cannot know the exact rank fo a summed or product matrix based on knowing the ranks of the individual matrices. \\\n",
    "The individual matrices provide upper bounds for the rank of the summed or product matrix \\\n",
    "The rank of a summed matrix could be greater than the ranks of the individual matrices \\\n",
    "The rank of a multiplied matrix cannot be greater than the largest rank of the multiplying matrices. \\\n",
    "\\\n",
    "Shifted matrices have full rank"
   ]
  },
  {
   "cell_type": "code",
   "execution_count": null,
   "metadata": {},
   "outputs": [],
   "source": [
    "M = np.array([[1,1,-4], [2,-2,2]])\n",
    "\n",
    "print(np.linalg.matrix_rank(M))\n",
    "\n",
    "# ------- rank of special matrices -------------- \n",
    "\n",
    "#1\n",
    "vector = np.array([1,2,3,4])\n",
    "print(np.linalg.matrix_rank(vector))\n",
    "\n",
    "#0\n",
    "zero = np.zeros([4,5])\n",
    "print(np.linalg.matrix_rank(zero))\n",
    "\n",
    "#full rank\n",
    "identity = np.eye(5)\n",
    "print(np.linalg.matrix_rank(identity))\n",
    "\n",
    "#full rank\n",
    "diagonal = np.diag( np.random.randint(0,6,size=8) )\n",
    "print(np.linalg.matrix_rank(diagonal))\n",
    "\n",
    "# upper-triangular square\n",
    "M2 = np.triu(np.random.randint(10,20,(3,3)))\n",
    "\n",
    "# lower-triangular rectangular\n",
    "M3 = np.tril(np.random.randint(8,16,(3,5)))\n"
   ]
  },
  {
   "cell_type": "markdown",
   "metadata": {},
   "source": [
    "## Determining if a vector is in the column space of a matrix\n",
    "\n",
    "The procedure is:\n",
    "- 1: Augment the matrix with the vector\n",
    "- 2: Compute the rank of the two matrices\n",
    "- 3: Compare the two ranks\n"
   ]
  },
  {
   "cell_type": "code",
   "execution_count": null,
   "metadata": {},
   "outputs": [],
   "source": [
    "# take a random matrix and a column vector with the same number of rows\n",
    "\n",
    "#A = np.random.randint(10,20,(3,3))\n",
    "A = np.array([[1,1,1],[0,0,0],[1,1,1]])\n",
    "V = np.random.randint(-10,20,(3,1))\n",
    "\n",
    "print(A)\n",
    "print(V)\n",
    "\n",
    "# Augement the matrix with the vector\n",
    "Aug = np.hstack((A,V))\n",
    "\n",
    "print(Aug)\n",
    "\n",
    "# compute and compare the two ranks\n",
    "rankA = np.linalg.matrix_rank(A)\n",
    "rankAug = np.linalg.matrix_rank(Aug)\n",
    "\n",
    "print(rankA)\n",
    "print(rankAug)\n",
    "\n",
    "if rankA == rankAug:\n",
    "    print('vector is in column space of matrix')\n",
    "else:\n",
    "    print('vector is not in the column space of the matrix')\n",
    "\n",
    "\n",
    "## Linear independence of a vector set\n",
    "M = np.random.randint(10,20,(300,3))\n",
    "\n",
    "M2 = np.array([[1,2,3], [2,4,6], [3,6,9]])\n",
    "\n",
    "number_of_columns = M.shape[1]\n",
    "rank = np.linalg.matrix_rank(M)\n",
    "\n",
    "number_of_columns_2 = M2.shape[1]\n",
    "rank2 = np.linalg.matrix_rank(M2)\n",
    "\n",
    "if number_of_columns == rank:\n",
    "    print('the vector set is linearly independent')\n",
    "else:\n",
    "    print('the vector set is linearly dependent')\n",
    "\n",
    "if number_of_columns_2 == rank2:\n",
    "    print('the vector set is linearly independent')\n",
    "else:\n",
    "    print('the vector set is linearly dependent')"
   ]
  },
  {
   "cell_type": "markdown",
   "metadata": {},
   "source": [
    "## Determinant\n",
    "\n",
    "The two main properties of the determinant are:\n",
    "- it is defined only for square matrices\n",
    "- it is zero for singular (reduced-rank) matrices\n",
    "\n",
    "Computing the determinant for large matrices can be numerically instable \n",
    "\n",
    "The determinant is related to how much the matrix streches vectors during matrix-vector multiplication. A negative determinant means that one axis is rotated during the transformation"
   ]
  }
 ],
 "metadata": {
  "kernelspec": {
   "display_name": "Python 3",
   "language": "python",
   "name": "python3"
  },
  "language_info": {
   "codemirror_mode": {
    "name": "ipython",
    "version": 3
   },
   "file_extension": ".py",
   "mimetype": "text/x-python",
   "name": "python",
   "nbconvert_exporter": "python",
   "pygments_lexer": "ipython3",
   "version": "3.11.4"
  }
 },
 "nbformat": 4,
 "nbformat_minor": 2
}
