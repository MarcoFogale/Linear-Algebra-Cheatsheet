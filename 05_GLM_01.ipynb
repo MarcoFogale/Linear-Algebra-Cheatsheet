{
 "cells": [
  {
   "cell_type": "markdown",
   "metadata": {},
   "source": [
    "## General Linear Models (GLM)\n",
    "\n",
    "A statistical model is a set of equations that relates predictors (called <i>independent variables</i>) to observations (called <i>dependent variable</i>).\n",
    "\n",
    "As an example, in a model that predict the stock market price overtime, the independent variable is the time, and the dependent is the stock price\n",
    "\n",
    "Setting up a GLM involves:\n",
    "- defining an equation that relates the predictor variables to the dependent variable\n",
    "- mapping the observed data onto the equations\n",
    "- transforming the series of equations into a matrix equation\n",
    "- solving that equation\n",
    "\n",
    "\n",
    "| y | x | h |\n",
    "|---|---|---|\n",
    "|175|70|177|\n",
    "|181|86|190|\n",
    "|159|63|180|\n",
    "|165|62|172|\n",
    "\n",
    "solve the equations \\\n",
    "175 = β<sub>0</sub> + 70β<sub>1</sub> + 177 + β<sub>2</sub> \\\n",
    "...\n",
    "\n",
    "the goal is to calculate β<sub>0</sub> and  β<sub>1</sub> and β<sub>2</sub>"
   ]
  },
  {
   "cell_type": "code",
   "execution_count": 1,
   "metadata": {},
   "outputs": [],
   "source": [
    "import numpy as np"
   ]
  },
  {
   "cell_type": "markdown",
   "metadata": {},
   "source": [
    "### Least Squares solution\n",
    "\n",
    "Solve for the vector of unknown coefficient β means left-multiply both sides of the equation by the left-inverse of X, the design matrix.\n",
    "\n",
    "The solution looks like this: \n",
    "\n",
    "Xβ = y\n",
    "\n",
    "(X<sup>T</sup>X)<sup>-1</sup>X<sup>T</sup>Xβ = (X<sup>T</sup>X)<sup>-1</sup>X<sup>T</sup>y\n",
    "\n",
    "β = (X<sup>T</sup>X)<sup>-1</sup>X<sup>T</sup>y\n",
    "\n",
    "From a geometric perspective, that means that the goal is to find the set of coefficients β such that the weighted combination of columns in X minimizes the distance to data vector y. \\\n",
    "We can call that projection vector ϵ, and it represent the error (or residuals).\\\n",
    "To find β and ϵ we can apply orthogonal vector projection.\n",
    "\n",
    "The key insight is that the shortest distance between y and X is given by the projection vector y - Xβ that meet X at the right angle (orthogonal).\n",
    "\n",
    "That means that:\n",
    "\n",
    "X@ϵ = 0\n",
    "X @ (y - Xβ) = 0\n",
    "X@y - X@Xβ = X@T\n",
    "\n",
    "β = inv(X @ X) @ X@y"
   ]
  },
  {
   "cell_type": "code",
   "execution_count": 5,
   "metadata": {},
   "outputs": [
    {
     "name": "stdout",
     "output_type": "stream",
     "text": [
      "[276.85604056   1.51653185  -1.18716219]\n"
     ]
    }
   ],
   "source": [
    "X = np.array([[1,70,177],[1,86,190],[1,63,180],[1,62,172]])\n",
    "y = np.array([175,181,159,165])\n",
    "\n",
    "X_leftinv = np.linalg.inv(X.T@X) @ X.T\n",
    "\n",
    "betas = X_leftinv  @ y\n",
    "\n",
    "print(betas)"
   ]
  }
 ],
 "metadata": {
  "kernelspec": {
   "display_name": "Python 3",
   "language": "python",
   "name": "python3"
  },
  "language_info": {
   "codemirror_mode": {
    "name": "ipython",
    "version": 3
   },
   "file_extension": ".py",
   "mimetype": "text/x-python",
   "name": "python",
   "nbconvert_exporter": "python",
   "pygments_lexer": "ipython3",
   "version": "3.11.4"
  }
 },
 "nbformat": 4,
 "nbformat_minor": 2
}
