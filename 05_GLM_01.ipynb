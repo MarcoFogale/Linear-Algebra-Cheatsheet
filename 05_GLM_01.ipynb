{
 "cells": [
  {
   "cell_type": "markdown",
   "metadata": {},
   "source": [
    "## General Linear Models (GLM)\n",
    "\n",
    "A statistical model is a set of equations that relates predictors (called <i>independent variables</i>) to observations (called <i>dependent variable</i>).\n",
    "\n",
    "As an example, in a model that predict the stock market price overtime, the independent variable is the time, and the dependent is the stock price"
   ]
  }
 ],
 "metadata": {
  "language_info": {
   "name": "python"
  }
 },
 "nbformat": 4,
 "nbformat_minor": 2
}
