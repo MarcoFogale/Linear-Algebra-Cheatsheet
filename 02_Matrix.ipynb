{
 "cells": [
  {
   "cell_type": "markdown",
   "metadata": {},
   "source": [
    "# MATRIX"
   ]
  },
  {
   "cell_type": "markdown",
   "metadata": {},
   "source": [
    "<div>\n",
    "<img src=\"images/02_Matrix/01_Matrix_.jpg\" width=\"500\"/>\n",
    "</div>"
   ]
  },
  {
   "cell_type": "code",
   "execution_count": null,
   "metadata": {},
   "outputs": [],
   "source": [
    "import numpy as np\n",
    "from matplotlib import pyplot as plt"
   ]
  },
  {
   "cell_type": "code",
   "execution_count": null,
   "metadata": {},
   "outputs": [],
   "source": [
    "import numpy as np\n",
    "import matplotlib.pyplot as plt\n",
    "\n",
    "def show_matrix_as_image(matrix, title='Matrix as Image'):\n",
    "    fig, ax = plt.subplots(figsize=(4,4))\n",
    "    plt.imshow(matrix, cmap='gray', interpolation='nearest')\n",
    "    plt.colorbar()\n",
    "    plt.title(title)\n",
    "    plt.xlabel('Columns')\n",
    "    plt.ylabel('Rows')\n",
    "    plt.show()\n",
    "\n",
    "# Example matrix\n",
    "matrix = np.array([[1, 2, 3],\n",
    "                   [4, 5, 6],\n",
    "                   [7, 8, 9]])\n",
    "\n",
    "# Display the matrix as an image\n",
    "show_matrix_as_image(matrix)\n",
    "\n",
    "# create an example of a large matrix filled with random numbers\n",
    "matrix = np.random.rand(2000, 2000)\n",
    "\n",
    "# Display the matrix as an image\n",
    "show_matrix_as_image(matrix)"
   ]
  },
  {
   "cell_type": "markdown",
   "metadata": {},
   "source": [
    "## Special matrices are the identity matrix (equivalent of a scalar 1) and the zero matrix"
   ]
  },
  {
   "cell_type": "code",
   "execution_count": null,
   "metadata": {},
   "outputs": [],
   "source": [
    "identity = np.eye(5)\n",
    "zero = np.zeros([5,5])\n",
    "print(identity)\n",
    "print(zero)\n",
    "\n",
    "show_matrix_as_image(identity, 'Identity Matrix')"
   ]
  },
  {
   "cell_type": "markdown",
   "metadata": {},
   "source": [
    "## Matrix Math: addition, scalar multiplication, Hadamard multiplication\n",
    "\n",
    "<div>\n",
    "<img src=\"images/02_Matrix/matrix_math.jpg\" width=\"500\"/>\n",
    "</div>\n",
    "\n"
   ]
  },
  {
   "cell_type": "code",
   "execution_count": null,
   "metadata": {},
   "outputs": [],
   "source": [
    "M1 = np.array([[2,3,4],[1,2,4]]) \n",
    "M2 = np.array([[0,3,1],[-1,-4,2]])\n",
    "\n",
    "# adding two matrices \n",
    "print(M1 + M2)\n",
    "\n",
    "# adding a scalar is possible in Python thanks to broadcasting, but it's not a formal linear algebra operation\n",
    "M1 = np.array([[4,5,1], [0,1,11], [4,9,7]])\n",
    "\n",
    "ʎ = 6\n",
    "print(ʎ+M1)\n",
    "\n",
    "# there is instead a linear-algebra way to add a scalar to a square matrix, that is called \"shifting\", which is adding a scalar to an identity matrix, then add it.$\n",
    "# in this case, only the diagonal element change. It's an important operation used to fit a model to data in ML\n",
    "id = np.eye(len(M1))\n",
    "print(M1 + (id*6))\n",
    "\n",
    "# element-wise (Hadamard) multiplication\n",
    "M1 = np.array([[2,3,4],[1,2,4]]) \n",
    "M2 = np.array([[0,3,1],[-1,-4,2]])\n",
    "print(M1*M2)"
   ]
  },
  {
   "cell_type": "markdown",
   "metadata": {},
   "source": [
    "## Standard Matrix Multiplication\n",
    "\n",
    "<div>\n",
    "<img src=\"images/02_Matrix/matrix_mult_1.jpg\" width=\"500\"/>\n",
    "</div>\n",
    "\n",
    "\n",
    "<div>\n",
    "<img src=\"images/02_Matrix/matrix_mult_2.jpg\" width=\"500\"/>\n",
    "</div>\n",
    "\n"
   ]
  },
  {
   "cell_type": "code",
   "execution_count": null,
   "metadata": {},
   "outputs": [],
   "source": [
    "M1 = np.array([[1,2,4], [4,5,6]])\n",
    "M2 = np.array([[1,2,3,4],[5,6,7,8],[9,10,11,12]])\n",
    "\n",
    "standard_mult = M1@M2\n",
    "print(standard_mult)\n",
    "\n",
    "# Linear Weighted Combination can be done with a vector-matrix multiplication\n",
    "\n",
    "M = np.array([[2,3], [2,1]])\n",
    "x = np.array([3,4.5])\n",
    "\n",
    "print(M@x)\n",
    "\n",
    "# When we think of a vector as a geometric line, then matrix-vector multiplication becomes a way of rotating and scaling the vector\n",
    "v = np.array([3,4])\n",
    "M = np.array([[2,0],[0,-1]])\n",
    "\n",
    "transformed_v = v@M\n",
    "print(transformed_v)\n",
    "\n",
    "fig, ax = plt.subplots()\n",
    "plt.xlim(-2,8)\n",
    "plt.ylim(-6,5)\n",
    "ax = plt.gca()\n",
    "ax.set_aspect('equal', adjustable='box')\n",
    "plt.grid()\n",
    "\n",
    "plt.plot([0,v[0]],[0, v[1]],color='rosybrown', label='original vector')\n",
    "plt.plot([0,transformed_v[0]],[0, transformed_v[1]],color='red', label='rotated and scaled vector')\n",
    "\n",
    "\n",
    "plt.legend()\n",
    "plt.show()"
   ]
  },
  {
   "cell_type": "markdown",
   "metadata": {},
   "source": [
    "## Transpose and LIVE EVIL"
   ]
  },
  {
   "cell_type": "code",
   "execution_count": 35,
   "metadata": {},
   "outputs": [
    {
     "name": "stdout",
     "output_type": "stream",
     "text": [
      "[[2 6]\n",
      " [3 7]\n",
      " [4 8]]\n",
      "[[2 6]\n",
      " [3 7]\n",
      " [4 8]]\n",
      "[[12569 22087]\n",
      " [10062 17682]]\n",
      "[[12569 22087]\n",
      " [10062 17682]]\n"
     ]
    }
   ],
   "source": [
    "# transpose a matrix with Python can be done in different ways:\n",
    "M = np.array([[2,3,4], [6,7,8]])\n",
    "print(M.T)\n",
    "print(M.transpose())\n",
    "\n",
    "# to remember the order of evaluation of transposed matrices, we can use the mnemonic phrase LIVE EVIL\n",
    "L = np.array([[2,3], [4,5]])\n",
    "I = np.array([[4,5],[7,9]])\n",
    "V = np.array([[9,8],[10,22]])\n",
    "E = np.array([[5,6], [9,6]])\n",
    "\n",
    "print((L@I@V@E).T)\n",
    "print(E.T @ V.T @ I.T @ L.T)"
   ]
  }
 ],
 "metadata": {
  "kernelspec": {
   "display_name": "Python 3",
   "language": "python",
   "name": "python3"
  },
  "language_info": {
   "codemirror_mode": {
    "name": "ipython",
    "version": 3
   },
   "file_extension": ".py",
   "mimetype": "text/x-python",
   "name": "python",
   "nbconvert_exporter": "python",
   "pygments_lexer": "ipython3",
   "version": "3.11.4"
  }
 },
 "nbformat": 4,
 "nbformat_minor": 2
}
